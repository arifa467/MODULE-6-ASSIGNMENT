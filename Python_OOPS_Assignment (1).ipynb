{
  "nbformat": 4,
  "nbformat_minor": 0,
  "metadata": {
    "colab": {
      "provenance": []
    },
    "kernelspec": {
      "name": "python3",
      "display_name": "Python 3"
    },
    "language_info": {
      "name": "python"
    }
  },
  "cells": [
    {
      "cell_type": "markdown",
      "source": [
        "# **Theroy Questions**"
      ],
      "metadata": {
        "id": "SQbDjmUz4pPa"
      }
    },
    {
      "cell_type": "markdown",
      "source": [
        "01. What is Object-Oriented Programming (OOP)?\n",
        "02. What is a class in OOP?\n",
        "03. What is an object in OOP?\n",
        "04. What is the difference between abstraction and encapsulation?\n",
        "05. What are dunder methods in Python?\n",
        "06. Explain the concept of inheritance in OOP?\n",
        "07. What is polymorphism in OOP?\n",
        "08. How is encapsulation achieved in Python?\n",
        "09. What is a constructor in Python?\n",
        "10. What are class and static methods in Python?\n",
        "11. What is method overloading in Python?\n",
        "12. What is method overriding in OOP?\n",
        "13. What is a property decorator in Python?\n",
        "14. Why is polymorphism important in OOP?\n",
        "15. What is an abstract class in Python?\n",
        "16. What are the advantages of OOP?\n",
        "17. What is the difference between a class variable and an instance variable?\n",
        "18. What is multiple inheritance in Python?\n",
        "19. Explain the purpose of ''_ _str_ _' and '_ _repr_ _'' methods in Python.\n",
        "20. What is the significance of the 'super()' function in Python?\n",
        "21. What is the significance of the _ _del_ _ method in Python?\n",
        "22. What is the difference between @staticmethod and @classmethod in Python?\n",
        "23. How does polymorphism work in Python with inheritance?\n",
        "24. What is method chaining in Python OOP?\n",
        "25. What is the purpose of the _ _call_ _ method in Python?"
      ],
      "metadata": {
        "id": "zPyLBPfw41vi"
      }
    },
    {
      "cell_type": "markdown",
      "source": [
        "Answer 01\n",
        "- Object-Oriented Programming (OOP) is a programming paradigm based on the\n",
        "  concept of “objects,” which are instances of classes. These objects can contain both data (attributes) and code (methods or functions) that manipulate that data."
      ],
      "metadata": {
        "id": "D11TKAtPiFLa"
      }
    },
    {
      "cell_type": "markdown",
      "source": [
        "Answer 02\n",
        "- Class is a blueprint for creating objects. It defines attributes and methods\n",
        "  that its objects will have."
      ],
      "metadata": {
        "id": "AO5s02FWkrfm"
      }
    },
    {
      "cell_type": "markdown",
      "source": [
        "Answer 03\n",
        "- Object is an instance of a class. It represents a specific entity with  \n",
        "  defined properties and behavior."
      ],
      "metadata": {
        "id": "eUlyyDiAk8gd"
      }
    },
    {
      "cell_type": "markdown",
      "source": [
        "Answer 04\n",
        "- Abstraction is a hiding complex implementation details and showing only the\n",
        "  essential features of the object.\n",
        "- Encapsulation is a bundling data and methods that operate on the data within\n",
        "  one unit (i.e., a class) and restricting access to some of the object's components."
      ],
      "metadata": {
        "id": "Ucq3lYkhlsR4"
      }
    },
    {
      "cell_type": "markdown",
      "source": [
        "Answer 05\n",
        "- Dunder methods in Python (short for “double underscore” methods) are special\n",
        "  methods with names that begin and end with double underscores, like __ init __, __ str __ , __ len __, etc.\n",
        "- They are also known as magic methods because they allow you to define how  \n",
        "  your objects behave with built-in Python operations, like printing, adding, comparing, or indexing."
      ],
      "metadata": {
        "id": "W9_A20jBmP_I"
      }
    },
    {
      "cell_type": "markdown",
      "source": [
        "Answer 06\n",
        "- Inheritance is a mechanism where a new class can inherit the attributes and\n",
        "  methods of an existing class, promoting code reuse."
      ],
      "metadata": {
        "id": "Avj0JHJ_nCDL"
      }
    },
    {
      "cell_type": "markdown",
      "source": [
        "Answer 07\n",
        "- Polymorphism is the ability to present the same interface for different\n",
        "  underlying forms (e.g., methods with the same name behaving differently based on the object)."
      ],
      "metadata": {
        "id": "MZICbgDVnRGy"
      }
    },
    {
      "cell_type": "markdown",
      "source": [
        "Answer 08\n",
        "- Encapsulation in Python is achieved by restricting access to variables and\n",
        "  methods using naming conventions (since Python doesn't have strict access modifiers like private or protected).\n",
        "- Public (default): Accessible from anywhere.\n",
        "- Protected (_variable): By convention, should not be accessed outside the\n",
        "  class.\n",
        "- Private (__variable): Name mangling makes it harder to access from outside."
      ],
      "metadata": {
        "id": "DXoxZ5WJnqp0"
      }
    },
    {
      "cell_type": "code",
      "source": [
        "# Example\n",
        "class Person:\n",
        "    def __init__(self, name, age):\n",
        "        self.name = name               # public\n",
        "        self._age = age                # protected (convention)\n",
        "        self.__ssn = \"123-45-6789\"     # private\n",
        "\n",
        "    def get_ssn(self):\n",
        "        return self.__ssn\n",
        "\n",
        "person = Person(\"Neeraj\", 24)\n",
        "print(person.name)\n",
        "print(person._age)\n",
        "# print(person.__ssn)                  # AttributeError\n",
        "print(person.get_ssn())                # Accessed via method\n"
      ],
      "metadata": {
        "colab": {
          "base_uri": "https://localhost:8080/"
        },
        "id": "-3h-xL3XoFAx",
        "outputId": "aa8084d6-0b46-4fcf-8c3c-237675d15061"
      },
      "execution_count": 3,
      "outputs": [
        {
          "output_type": "stream",
          "name": "stdout",
          "text": [
            "Neeraj\n",
            "24\n",
            "123-45-6789\n"
          ]
        }
      ]
    },
    {
      "cell_type": "markdown",
      "source": [
        "Answer 09\n",
        "- A Constructor is a special method called __ init __() that runs automatically\n",
        "  when a new object is created. It’s used to initialize instance variables."
      ],
      "metadata": {
        "id": "dzVJO40Do_dp"
      }
    },
    {
      "cell_type": "code",
      "source": [
        "# Example\n",
        "class Person:\n",
        "    def __init__(self, name, age):\n",
        "        self.name = name\n",
        "        self.age = age\n",
        "\n",
        "person = Person(\"Neeraj\", 24)\n",
        "print(person.name)\n",
        "print(person.age)"
      ],
      "metadata": {
        "colab": {
          "base_uri": "https://localhost:8080/"
        },
        "id": "5ViLNWa5pP5N",
        "outputId": "904d3a38-d491-4f0f-921c-12d6488b1fff"
      },
      "execution_count": 4,
      "outputs": [
        {
          "output_type": "stream",
          "name": "stdout",
          "text": [
            "Neeraj\n",
            "24\n"
          ]
        }
      ]
    },
    {
      "cell_type": "markdown",
      "source": [
        "Answer 10\n",
        "1. Class Method (@classmethod)\n",
        " - Works with the class, not instances.\n",
        " - Takes cls as the first parameter.\n",
        " - Often used for alternative constructors\n",
        "2. Static Method (@staticmethod)\n",
        " - Doesn't access class or instance data.\n",
        " - A utility function inside a class.\n",
        " - Takes no self or cls."
      ],
      "metadata": {
        "id": "gQrZFfENprIb"
      }
    },
    {
      "cell_type": "code",
      "source": [
        "# Example of Class Method\n",
        "\n",
        "class MathOperations:\n",
        "    @classmethod\n",
        "    def add_numbers(cls, a, b):\n",
        "        return a + b\n",
        "\n",
        "result = MathOperations.add_numbers(5, 3)\n",
        "print(result)\n",
        "\n",
        "# Example of Static Method\n",
        "\n",
        "class MathOperations:\n",
        "    @staticmethod\n",
        "    def subtract_numbers(a, b):\n",
        "        return a - b\n",
        "\n",
        "result = MathOperations.subtract_numbers(5, 3)\n",
        "print(result)\n"
      ],
      "metadata": {
        "colab": {
          "base_uri": "https://localhost:8080/"
        },
        "id": "d_RbReTrqAwY",
        "outputId": "ef7830a7-8b78-42b1-d729-0db367b719df"
      },
      "execution_count": 7,
      "outputs": [
        {
          "output_type": "stream",
          "name": "stdout",
          "text": [
            "8\n",
            "2\n"
          ]
        }
      ]
    },
    {
      "cell_type": "markdown",
      "source": [
        "Answer 11\n",
        "- Method overloading means defining multiple methods with the same name but\n",
        "  different parameters.\n",
        "- In other languages like Java or C++, this is directly supported.\n",
        "- In Python, traditional method overloading is not supported — instead, you\n",
        "  simulate it using:\n",
        "1. Default arguments\n",
        "2. *args / **kwargs"
      ],
      "metadata": {
        "id": "nDwZ6-E5uMvj"
      }
    },
    {
      "cell_type": "code",
      "source": [
        "# Example\n",
        "class Math:\n",
        "    def add(self, a=0, b=0, c=0):\n",
        "        return a + b + c\n",
        "\n",
        "m = Math()\n",
        "print(m.add(2, 3))\n",
        "print(m.add(2, 3, 4))"
      ],
      "metadata": {
        "colab": {
          "base_uri": "https://localhost:8080/"
        },
        "id": "b4iH9oJR3pSl",
        "outputId": "7dec4d2b-1e95-42b9-b578-5f3e28249f13"
      },
      "execution_count": 9,
      "outputs": [
        {
          "output_type": "stream",
          "name": "stdout",
          "text": [
            "5\n",
            "9\n"
          ]
        }
      ]
    },
    {
      "cell_type": "markdown",
      "source": [
        "Answer 12\n",
        "- Method Overriding means redefining a method in a child class that already\n",
        "  exists in the parent class."
      ],
      "metadata": {
        "id": "ka2j33mYtpHv"
      }
    },
    {
      "cell_type": "code",
      "source": [
        "# Example\n",
        "class Animal:\n",
        "    def speak(self):\n",
        "        print(\"Animal sound\")\n",
        "\n",
        "class Dog(Animal):\n",
        "    def speak(self):\n",
        "        print(\"Bark\")\n",
        "\n",
        "d = Dog()\n",
        "d.speak()"
      ],
      "metadata": {
        "colab": {
          "base_uri": "https://localhost:8080/"
        },
        "id": "LRrXrv97357q",
        "outputId": "a5570f4a-0280-4cbe-f52b-d189a0f11a0b"
      },
      "execution_count": 10,
      "outputs": [
        {
          "output_type": "stream",
          "name": "stdout",
          "text": [
            "Bark\n"
          ]
        }
      ]
    },
    {
      "cell_type": "markdown",
      "source": [
        "Answer 13\n",
        "- The @property decorator allows a method to be accessed like an attribute,\n",
        "  enabling controlled access."
      ],
      "metadata": {
        "id": "Vs756SOdvLA5"
      }
    },
    {
      "cell_type": "markdown",
      "source": [
        "Answer 14\n",
        "- Polymorphism lets objects of different classes be treated through a common\n",
        "  interface, improving flexibility and code reuse."
      ],
      "metadata": {
        "id": "Cy_JtTj9vVtx"
      }
    },
    {
      "cell_type": "markdown",
      "source": [
        "Answer 15\n",
        "- An abstract class (using abc module) can't be instantiated and is used to\n",
        " define blueprints for other classes."
      ],
      "metadata": {
        "id": "3qvUsojeveRQ"
      }
    },
    {
      "cell_type": "markdown",
      "source": [
        "Answer 16\n",
        "- **Advantages of OOPS**\n",
        " - Modularity\n",
        " - Code reuse via inheritance\n",
        " - Easier maintenance\n",
        " - Encapsulation & abstraction\n",
        " - Real-world modeling"
      ],
      "metadata": {
        "id": "o2DMoJFpvl5x"
      }
    },
    {
      "cell_type": "markdown",
      "source": [
        "Answer 17\n",
        "- Class Variable    \n",
        "  - Class variable is shared among all instances.              \n",
        "  - Scope : Shared by all instances               \n",
        "  - Declaration : Inside class, outside methods  \n",
        "- Instance Variable\n",
        "  - Instance variable is specific to an object.\n",
        "  - Scope : Unique to each instance\n",
        "  - Declaration : Inside '__init__' or methods\n"
      ],
      "metadata": {
        "id": "YA3cI7umwSzM"
      }
    },
    {
      "cell_type": "markdown",
      "source": [
        "Answer 18\n",
        "- Multiple inheritance : A class can inherit from more than one parent class."
      ],
      "metadata": {
        "id": "nSDFD4iMx6PX"
      }
    },
    {
      "cell_type": "code",
      "source": [
        "# Example\n",
        "class A:\n",
        "    def show(self):\n",
        "        print(\"A\")\n",
        "\n",
        "class B:\n",
        "    def display(self):\n",
        "        print(\"B\")\n",
        "\n",
        "class C(A, B):              # Multiple Inheritance\n",
        "    pass\n",
        "\n",
        "obj = C()\n",
        "obj.show()\n",
        "obj.display()"
      ],
      "metadata": {
        "colab": {
          "base_uri": "https://localhost:8080/"
        },
        "id": "kMV-UkBm4fGI",
        "outputId": "5549ecd0-5f69-46d8-f271-cd185bc97915"
      },
      "execution_count": 11,
      "outputs": [
        {
          "output_type": "stream",
          "name": "stdout",
          "text": [
            "A\n",
            "B\n"
          ]
        }
      ]
    },
    {
      "cell_type": "markdown",
      "source": [
        "Answer 19\n",
        "- Purpose of __ str __ and __ repr __ methods\n",
        " - __ str __ : Used by print() for readable output.\n",
        " - __ repr __ : Used for debugging, unambiguous representation."
      ],
      "metadata": {
        "id": "SiFhKZD4ygyB"
      }
    },
    {
      "cell_type": "markdown",
      "source": [
        "Answer 20\n",
        "- Significance of super() in Python\n",
        " - super() lets you call methods from the parent class, often used in\n",
        "  constructors."
      ],
      "metadata": {
        "id": "4sKJmVRSz8C-"
      }
    },
    {
      "cell_type": "markdown",
      "source": [
        "Answer 21\n",
        "- Significance of __ del __ Method\n",
        " - Called when an object is about to be destroyed (used for cleanup)."
      ],
      "metadata": {
        "id": "jaSArzQf0Jqf"
      }
    },
    {
      "cell_type": "markdown",
      "source": [
        "Answer 22\n",
        "- @staticmethod\n",
        "  - Doesn't take self or cls as the first argument.\n",
        "  - Cannot access or modify the class state.\n",
        "  - Behaves like a regular function, but lives inside a class for  \n",
        "  organizational reasons.\n",
        "\n",
        "- @classmethod\n",
        "  - Takes cls as the first argument (refers to the class, not an instance).\n",
        "  - Can access and modify class variables.\n",
        "  - Often used for alternative constructors."
      ],
      "metadata": {
        "id": "vBAOMhzy54Tg"
      }
    },
    {
      "cell_type": "markdown",
      "source": [
        "Answer 23\n",
        "- Child classes can override parent methods, and functions can use common\n",
        "  interface for all subclasses."
      ],
      "metadata": {
        "id": "nwy-9Pyb0p37"
      }
    },
    {
      "cell_type": "code",
      "source": [
        "# Example\n",
        "class Animal:\n",
        "    def speak(self):\n",
        "        print(\"Animal speaks\")\n",
        "\n",
        "class Dog(Animal):\n",
        "    def speak(self):\n",
        "        print(\"Dog barks\")\n",
        "\n",
        "def make_animal_speak(animal):\n",
        "    animal.speak()\n",
        "\n",
        "make_animal_speak(Dog())"
      ],
      "metadata": {
        "colab": {
          "base_uri": "https://localhost:8080/"
        },
        "id": "lWMFfvse5Yu3",
        "outputId": "8a27c74c-81c8-4862-9730-0ed9b9fd5ea2"
      },
      "execution_count": 13,
      "outputs": [
        {
          "output_type": "stream",
          "name": "stdout",
          "text": [
            "Dog barks\n"
          ]
        }
      ]
    },
    {
      "cell_type": "markdown",
      "source": [
        "Answer 24\n",
        "- Return self from methods so they can be chained."
      ],
      "metadata": {
        "id": "GUxwKvq90yzA"
      }
    },
    {
      "cell_type": "code",
      "source": [
        "# Example\n",
        "class Builder:\n",
        "    def step1(self):\n",
        "        print(\"Step 1\")\n",
        "        return self\n",
        "\n",
        "    def step2(self):\n",
        "        print(\"Step 2\")\n",
        "        return self\n",
        "\n",
        "Builder().step1().step2()"
      ],
      "metadata": {
        "colab": {
          "base_uri": "https://localhost:8080/"
        },
        "id": "xPJeK6WH5gk9",
        "outputId": "d241807a-33d1-487f-bb7b-0bd0f80df64a"
      },
      "execution_count": 14,
      "outputs": [
        {
          "output_type": "stream",
          "name": "stdout",
          "text": [
            "Step 1\n",
            "Step 2\n"
          ]
        },
        {
          "output_type": "execute_result",
          "data": {
            "text/plain": [
              "<__main__.Builder at 0x7a470da7ac10>"
            ]
          },
          "metadata": {},
          "execution_count": 14
        }
      ]
    },
    {
      "cell_type": "markdown",
      "source": [
        "Answer 25\n",
        "- Makes an object callable like a function."
      ],
      "metadata": {
        "id": "n-AugCDF05Ta"
      }
    },
    {
      "cell_type": "code",
      "source": [
        "# Example\n",
        "class Greeter:\n",
        "    def __call__(self, name):\n",
        "        return f\"Hello, {name}\"\n",
        "\n",
        "g = Greeter()\n",
        "print(g(\"Neeraj\"))"
      ],
      "metadata": {
        "colab": {
          "base_uri": "https://localhost:8080/"
        },
        "id": "t1N27qEW5n7K",
        "outputId": "cf88161b-ac8b-45cc-a8e0-1e6ec474af78"
      },
      "execution_count": 15,
      "outputs": [
        {
          "output_type": "stream",
          "name": "stdout",
          "text": [
            "Hello, Neeraj\n"
          ]
        }
      ]
    },
    {
      "cell_type": "markdown",
      "source": [
        "# **Practical Questions**"
      ],
      "metadata": {
        "id": "jkgweg8I4vPt"
      }
    },
    {
      "cell_type": "markdown",
      "source": [
        "1. Create a parent class Animal with a method speak() that prints a generic\n",
        "   message. Create a child class Dog that overrides the speak() method to print \"Bark!\".\n",
        "2. Write a program to create an abstract class Shape with a method area().\n",
        "   Derive classes Circle and Rectangle from it and implement the area() method in both.\n",
        "3. Implement a multi-level inheritance scenario where a class Vehicle has an\n",
        "   attribute type. Derive a class Car and further derive a class ElectricCar that adds a battery attribute.\n",
        "4. Demonstrate polymorphism by creating a base class Bird with a method fly(). Create two derived classes Sparrow and Penguin that override the fly() method.\n",
        "5. Write a program to demonstrate encapsulation by creating a class BankAccount\n",
        "   with private attributes balance and methods to deposit, withdraw, and check balance.\n",
        "6. Demonstrate runtime polymorphism using a method play() in a base class\n",
        "   Instrument. Derive classes Guitar and Piano that implement their own version of play().\n",
        "7. Create a class MathOperations with a class method add_numbers() to add two\n",
        "   numbers and a static method subtract_numbers() to subtract two numbers.\n",
        "8. Implement a class Person with a class method to count the total number of persons created.\n",
        "9. Write a class Fraction with attributes numerator and denominator. Override\n",
        "   the str method to display the fraction as \"numerator/denominator\".\n",
        "10. Demonstrate operator overloading by creating a class Vector and overriding\n",
        "  the add method to add two vectors.\n",
        "11. Create a class Person with attributes name and age. Add a method greet() that prints \"Hello, my name is {name} and I am {age} years old.\"\n",
        "12. Implement a class Student with attributes name and grades. Create a method\n",
        "   average_grade() to compute the average of the grades.\n",
        "13. Create a class Rectangle with methods set_dimensions() to set the dimensions and area() to calculate the area.\n",
        "14. Create a class Employee with a method calculate_salary() that computes the salary based on hours worked and hourly rate. Create a derived class Manager that adds a bonus to the salary.\n",
        "15. Create a class Product with attributes name, price, and quantity. Implement a method total_price() that calculates the total price of the product.\n",
        "16. Create a class Animal with an abstract method sound(). Create two derived classes Cow and Sheep that implement the sound() method.\n",
        "17. Create a class Book with attributes title, author, and year_published. Add a method get_book_info() that returns a formatted string with the book's details.\n",
        "18. Create a class House with attributes address and price. Create a derived class Mansion that adds an attribute number_of_rooms.\n"
      ],
      "metadata": {
        "id": "cafM897L9YKi"
      }
    },
    {
      "cell_type": "code",
      "source": [
        "# Solution 01\n",
        "class Animal:\n",
        "    def speak(self):\n",
        "        print(\"Animal speaks\")\n",
        "\n",
        "class Dog(Animal):\n",
        "    def speak(self):\n",
        "        print(\"Dog barks\")\n",
        "\n",
        "dog = Dog()\n",
        "dog.speak()"
      ],
      "metadata": {
        "colab": {
          "base_uri": "https://localhost:8080/"
        },
        "id": "UrnloRjA6zNX",
        "outputId": "6b04c7e9-203a-4002-e195-7b3be945180f"
      },
      "execution_count": 28,
      "outputs": [
        {
          "output_type": "stream",
          "name": "stdout",
          "text": [
            "Dog barks\n"
          ]
        }
      ]
    },
    {
      "cell_type": "code",
      "source": [
        "# Solution 02\n",
        "from abc import ABC, abstractmethod\n",
        "\n",
        "class Shape(ABC):\n",
        "    @abstractmethod\n",
        "    def area(self):\n",
        "        pass\n",
        "\n",
        "class Circle(Shape):\n",
        "    def __init__(self, radius):\n",
        "        self.radius = radius\n",
        "\n",
        "    def area(self):\n",
        "        return 3.14 * self.radius * self.radius\n",
        "\n",
        "class Rectangle(Shape):\n",
        "    def __init__(self, width, height):\n",
        "        self.width = width\n",
        "        self.height = height\n",
        "\n",
        "    def area(self):\n",
        "        return self.width * self.height\n",
        "\n",
        "print(Circle(5).area())\n",
        "print(Rectangle(4, 6).area())"
      ],
      "metadata": {
        "colab": {
          "base_uri": "https://localhost:8080/"
        },
        "id": "hlSMoaTB7Rji",
        "outputId": "03b3cbcc-7432-495a-be44-0741435f02c1"
      },
      "execution_count": 29,
      "outputs": [
        {
          "output_type": "stream",
          "name": "stdout",
          "text": [
            "78.5\n",
            "24\n"
          ]
        }
      ]
    },
    {
      "cell_type": "code",
      "source": [
        "# Solution 03\n",
        "class Vehicle:\n",
        "    def __init__(self, v_type):\n",
        "        self.type = v_type\n",
        "\n",
        "class Car(Vehicle):\n",
        "    def __init__(self, v_type, model):\n",
        "        super().__init__(v_type)\n",
        "        self.model = model\n",
        "\n",
        "class ElectricCar(Car):\n",
        "    def __init__(self, v_type, model, battery):\n",
        "        super().__init__(v_type, model)\n",
        "        self.battery = battery\n",
        "\n",
        "e_car = ElectricCar(\"Electric\", \"Tesla Model 3\", \"75kWh\")\n",
        "print(e_car.type, e_car.model, e_car.battery)"
      ],
      "metadata": {
        "colab": {
          "base_uri": "https://localhost:8080/"
        },
        "id": "yVM4f9AI7iXx",
        "outputId": "ce22d838-0836-4c93-b350-6a006c040145"
      },
      "execution_count": 30,
      "outputs": [
        {
          "output_type": "stream",
          "name": "stdout",
          "text": [
            "Electric Tesla Model 3 75kWh\n"
          ]
        }
      ]
    },
    {
      "cell_type": "code",
      "source": [
        "# Solution 04\n",
        "class Bird:\n",
        "    def fly(self):\n",
        "        print(\"Bird is flying\")\n",
        "\n",
        "class Sparrow(Bird):\n",
        "    def fly(self):\n",
        "        print(\"Sparrow flies high\")\n",
        "\n",
        "class Penguin(Bird):\n",
        "    def fly(self):\n",
        "        print(\"Penguins can't fly\")\n",
        "\n",
        "birds = [Sparrow(), Penguin()]\n",
        "for bird in birds:\n",
        "    bird.fly()"
      ],
      "metadata": {
        "colab": {
          "base_uri": "https://localhost:8080/"
        },
        "id": "8OAOypOBIQ9s",
        "outputId": "875ac873-d58f-406b-ba9f-0303b1a8999d"
      },
      "execution_count": 31,
      "outputs": [
        {
          "output_type": "stream",
          "name": "stdout",
          "text": [
            "Sparrow flies high\n",
            "Penguins can't fly\n"
          ]
        }
      ]
    },
    {
      "cell_type": "code",
      "source": [
        "# Solution 05\n",
        "class BankAccount:\n",
        "    def __init__(self, balance):\n",
        "        self.__balance = balance\n",
        "\n",
        "    def deposit(self, amount):\n",
        "        if amount > 0:\n",
        "            self.__balance += amount\n",
        "\n",
        "    def withdraw(self, amount):\n",
        "        if 0 < amount <= self.__balance:\n",
        "            self.__balance -= amount\n",
        "\n",
        "    def get_balance(self):\n",
        "        return self.__balance\n",
        "\n",
        "account = BankAccount(1000)\n",
        "account.deposit(500)\n",
        "account.withdraw(200)\n",
        "print(account.get_balance())"
      ],
      "metadata": {
        "colab": {
          "base_uri": "https://localhost:8080/"
        },
        "id": "eZvZkHENIXz1",
        "outputId": "0c631ced-979a-44b7-c5f9-bb773f6f92f3"
      },
      "execution_count": 32,
      "outputs": [
        {
          "output_type": "stream",
          "name": "stdout",
          "text": [
            "1300\n"
          ]
        }
      ]
    },
    {
      "cell_type": "code",
      "source": [
        "# Solution 06\n",
        "class Instrument:\n",
        "    def play(self):\n",
        "        print(\"Playing instrument\")\n",
        "\n",
        "class Guitar(Instrument):\n",
        "    def play(self):\n",
        "        print(\"Strumming guitar\")\n",
        "\n",
        "class Piano(Instrument):\n",
        "    def play(self):\n",
        "        print(\"Playing piano\")\n",
        "\n",
        "for instr in [Guitar(), Piano()]:\n",
        "    instr.play()"
      ],
      "metadata": {
        "colab": {
          "base_uri": "https://localhost:8080/"
        },
        "id": "SGKCnmutIfB7",
        "outputId": "adc9ff29-002b-4bde-a269-7275d60f6169"
      },
      "execution_count": 33,
      "outputs": [
        {
          "output_type": "stream",
          "name": "stdout",
          "text": [
            "Strumming guitar\n",
            "Playing piano\n"
          ]
        }
      ]
    },
    {
      "cell_type": "code",
      "source": [
        "# Solution 07\n",
        "class MathOperations:\n",
        "    @classmethod\n",
        "    def add_numbers(cls, a, b):\n",
        "        return a + b\n",
        "\n",
        "    @staticmethod\n",
        "    def subtract_numbers(a, b):\n",
        "        return a - b\n",
        "\n",
        "print(MathOperations.add_numbers(3, 2))\n",
        "print(MathOperations.subtract_numbers(5, 1))"
      ],
      "metadata": {
        "colab": {
          "base_uri": "https://localhost:8080/"
        },
        "id": "9LuLd-99IqoH",
        "outputId": "19f9c159-c7e3-4c9c-fe37-4fc5f8d56aa3"
      },
      "execution_count": 34,
      "outputs": [
        {
          "output_type": "stream",
          "name": "stdout",
          "text": [
            "5\n",
            "4\n"
          ]
        }
      ]
    },
    {
      "cell_type": "code",
      "source": [
        "# Solution 08\n",
        "class Person:\n",
        "    count = 0\n",
        "\n",
        "    def __init__(self, name):\n",
        "        self.name = name\n",
        "        Person.count += 1\n",
        "\n",
        "    @classmethod\n",
        "    def get_count(cls):\n",
        "        return cls.count\n",
        "\n",
        "p1 = Person(\"Neeraj\")\n",
        "p2 = Person(\"Satvik\")\n",
        "print(Person.get_count())"
      ],
      "metadata": {
        "colab": {
          "base_uri": "https://localhost:8080/"
        },
        "id": "b3KosYHbIxUw",
        "outputId": "892385d0-c28f-4942-ab8f-488e7af18784"
      },
      "execution_count": 36,
      "outputs": [
        {
          "output_type": "stream",
          "name": "stdout",
          "text": [
            "2\n"
          ]
        }
      ]
    },
    {
      "cell_type": "code",
      "source": [
        "# Solution 09\n",
        "class Fraction:\n",
        "    def __init__(self, numerator, denominator):\n",
        "        self.numerator = numerator\n",
        "        self.denominator = denominator\n",
        "\n",
        "    def __str__(self):\n",
        "        return f\"{self.numerator}/{self.denominator}\"\n",
        "\n",
        "f = Fraction(3, 4)\n",
        "print(f)"
      ],
      "metadata": {
        "colab": {
          "base_uri": "https://localhost:8080/"
        },
        "id": "xwSVjI1YI4Lk",
        "outputId": "83518c5f-410b-4ec1-c29a-85fda80ada65"
      },
      "execution_count": 37,
      "outputs": [
        {
          "output_type": "stream",
          "name": "stdout",
          "text": [
            "3/4\n"
          ]
        }
      ]
    },
    {
      "cell_type": "code",
      "source": [
        "# Solution 10\n",
        "class Vector:\n",
        "    def __init__(self, x, y):\n",
        "        self.x = x\n",
        "        self.y = y\n",
        "\n",
        "    def __add__(self, other):\n",
        "        return Vector(self.x + other.x, self.y + other.y)\n",
        "\n",
        "    def __str__(self):\n",
        "        return f\"({self.x}, {self.y})\"\n",
        "\n",
        "v1 = Vector(1, 2)\n",
        "v2 = Vector(3, 4)\n",
        "print(v1 + v2)"
      ],
      "metadata": {
        "colab": {
          "base_uri": "https://localhost:8080/"
        },
        "id": "44YkGQDgI-kX",
        "outputId": "fbab2a39-03f2-405a-b33f-ec14aead78b3"
      },
      "execution_count": 38,
      "outputs": [
        {
          "output_type": "stream",
          "name": "stdout",
          "text": [
            "(4, 6)\n"
          ]
        }
      ]
    },
    {
      "cell_type": "code",
      "source": [
        "# Solution 11\n",
        "class Person:\n",
        "    def __init__(self, name, age):\n",
        "        self.name = name\n",
        "        self.age = age\n",
        "\n",
        "    def greet(self):\n",
        "        print(f\"Hello, my name is {self.name} and I am {self.age} years old.\")\n",
        "\n",
        "p = Person(\"Neeraj\", 24)\n",
        "p.greet()"
      ],
      "metadata": {
        "colab": {
          "base_uri": "https://localhost:8080/"
        },
        "id": "e1zizoWoJEdC",
        "outputId": "3fde06a2-cdbe-4c8d-e766-e3f4e75dd7be"
      },
      "execution_count": 39,
      "outputs": [
        {
          "output_type": "stream",
          "name": "stdout",
          "text": [
            "Hello, my name is Neeraj and I am 24 years old.\n"
          ]
        }
      ]
    },
    {
      "cell_type": "code",
      "source": [
        "# Solution 12\n",
        "class Student:\n",
        "    def __init__(self, name, grades):\n",
        "        self.name = name\n",
        "        self.grades = grades\n",
        "\n",
        "    def average_grade(self):\n",
        "        return sum(self.grades) / len(self.grades)\n",
        "\n",
        "s = Student(\"Neeraj\", [90, 80, 85])\n",
        "print(s.average_grade())"
      ],
      "metadata": {
        "colab": {
          "base_uri": "https://localhost:8080/"
        },
        "id": "acbbFUpfJLb2",
        "outputId": "4e5b8ca2-70dc-49a2-aa06-9fcee9abdf70"
      },
      "execution_count": 40,
      "outputs": [
        {
          "output_type": "stream",
          "name": "stdout",
          "text": [
            "85.0\n"
          ]
        }
      ]
    },
    {
      "cell_type": "code",
      "source": [
        "# Solution 13\n",
        "class Rectangle:\n",
        "    def set_dimensions(self, width, height):\n",
        "        self.width = width\n",
        "        self.height = height\n",
        "\n",
        "    def area(self):\n",
        "        return self.width * self.height\n",
        "\n",
        "r = Rectangle()\n",
        "r.set_dimensions(4, 5)\n",
        "print(r.area())"
      ],
      "metadata": {
        "colab": {
          "base_uri": "https://localhost:8080/"
        },
        "id": "3AISDfoVJQpb",
        "outputId": "7bfaf073-06e1-4f5b-f404-c4f79449e936"
      },
      "execution_count": 41,
      "outputs": [
        {
          "output_type": "stream",
          "name": "stdout",
          "text": [
            "20\n"
          ]
        }
      ]
    },
    {
      "cell_type": "code",
      "source": [
        "# Solution 14\n",
        "class Employee:\n",
        "    def calculate_salary(self, hours, rate):\n",
        "        return hours * rate\n",
        "\n",
        "class Manager(Employee):\n",
        "    def calculate_salary(self, hours, rate, bonus):\n",
        "        base = super().calculate_salary(hours, rate)\n",
        "        return base + bonus\n",
        "\n",
        "m = Manager()\n",
        "print(m.calculate_salary(40, 50, 500))"
      ],
      "metadata": {
        "colab": {
          "base_uri": "https://localhost:8080/"
        },
        "id": "wcWA51a6JVwx",
        "outputId": "199895bb-d464-43a7-b7b0-97cc03c25527"
      },
      "execution_count": 42,
      "outputs": [
        {
          "output_type": "stream",
          "name": "stdout",
          "text": [
            "2500\n"
          ]
        }
      ]
    },
    {
      "cell_type": "code",
      "source": [
        "# Solution 15\n",
        "class Product:\n",
        "    def __init__(self, name, price, quantity):\n",
        "        self.name = name\n",
        "        self.price = price\n",
        "        self.quantity = quantity\n",
        "\n",
        "    def total_price(self):\n",
        "        return self.price * self.quantity\n",
        "\n",
        "p = Product(\"Laptop\", 1000, 3)\n",
        "print(p.total_price())"
      ],
      "metadata": {
        "colab": {
          "base_uri": "https://localhost:8080/"
        },
        "id": "wSbCMBzfJaXG",
        "outputId": "8990b720-7bcd-4edf-a99d-ab9cb3cc53ad"
      },
      "execution_count": 43,
      "outputs": [
        {
          "output_type": "stream",
          "name": "stdout",
          "text": [
            "3000\n"
          ]
        }
      ]
    },
    {
      "cell_type": "code",
      "source": [
        "# Solution 16\n",
        "from abc import ABC, abstractmethod\n",
        "\n",
        "class Animal(ABC):\n",
        "    @abstractmethod\n",
        "    def sound(self):\n",
        "        pass\n",
        "\n",
        "class Cow(Animal):\n",
        "    def sound(self):\n",
        "        print(\"Moo\")\n",
        "\n",
        "class Sheep(Animal):\n",
        "    def sound(self):\n",
        "        print(\"Baa\")\n",
        "\n",
        "Cow().sound()\n",
        "Sheep().sound()"
      ],
      "metadata": {
        "colab": {
          "base_uri": "https://localhost:8080/"
        },
        "id": "m9l86QPGJe9t",
        "outputId": "6d432119-eddc-44d2-cf86-4640a3728980"
      },
      "execution_count": 44,
      "outputs": [
        {
          "output_type": "stream",
          "name": "stdout",
          "text": [
            "Moo\n",
            "Baa\n"
          ]
        }
      ]
    },
    {
      "cell_type": "code",
      "source": [
        "# Solution 17\n",
        "class Book:\n",
        "    def __init__(self, title, author, year_published):\n",
        "        self.title = title\n",
        "        self.author = author\n",
        "        self.year_published = year_published\n",
        "\n",
        "    def get_book_info(self):\n",
        "        return f\"'{self.title}' by {self.author}, published in {self.year_published}\"\n",
        "\n",
        "b = Book(\"Data Science\", \"Neeraj\", 2025)\n",
        "print(b.get_book_info())"
      ],
      "metadata": {
        "colab": {
          "base_uri": "https://localhost:8080/"
        },
        "id": "TAu3IVEOJqMp",
        "outputId": "f122c16e-5e2a-4785-c72c-16c4875cb787"
      },
      "execution_count": 46,
      "outputs": [
        {
          "output_type": "stream",
          "name": "stdout",
          "text": [
            "'Data Science' by Neeraj, published in 2025\n"
          ]
        }
      ]
    },
    {
      "cell_type": "code",
      "source": [
        "# Solution 18\n",
        "class House:\n",
        "    def __init__(self, address, price):\n",
        "        self.address = address\n",
        "        self.price = price\n",
        "\n",
        "class Mansion(House):\n",
        "    def __init__(self, address, price, number_of_rooms):\n",
        "        super().__init__(address, price)\n",
        "        self.number_of_rooms = number_of_rooms\n",
        "\n",
        "m = Mansion(\"Jaunpur, UP\", 10000, 10)\n",
        "print(m.address, m.price, m.number_of_rooms)"
      ],
      "metadata": {
        "colab": {
          "base_uri": "https://localhost:8080/"
        },
        "id": "bAh56zblJxNu",
        "outputId": "7b25141b-8e91-4f0a-b446-5e4ef04446cf"
      },
      "execution_count": 48,
      "outputs": [
        {
          "output_type": "stream",
          "name": "stdout",
          "text": [
            "Jaunpur, UP 10000 10\n"
          ]
        }
      ]
    }
  ]
}